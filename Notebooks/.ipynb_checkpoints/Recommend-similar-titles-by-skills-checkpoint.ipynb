{
 "cells": [
  {
   "cell_type": "markdown",
   "metadata": {},
   "source": [
    "### Develop an application that recommend similar job titles based on the skills"
   ]
  },
  {
   "cell_type": "code",
   "execution_count": 1,
   "metadata": {},
   "outputs": [],
   "source": [
    "import pandas as pd\n",
    "from gensim import corpora, models, similarities"
   ]
  },
  {
   "cell_type": "code",
   "execution_count": 2,
   "metadata": {},
   "outputs": [],
   "source": [
    "def load_data(df_input):\n",
    "    df_skills = df_input.groupby(\"job_title\")[\"recommended_skills_tfidf\"].apply(list)\n",
    "    titles = list(df_skills.index)\n",
    "    skills = list(df_skills)\n",
    "    return titles, skills"
   ]
  },
  {
   "cell_type": "code",
   "execution_count": 3,
   "metadata": {},
   "outputs": [],
   "source": [
    "## top_skills.csv are top skills for each standard job\n",
    "\n",
    "df_title_skills = pd.read_csv(\"top_skills.csv\")\n",
    "titles, skillss = load_data(df_title_skills)"
   ]
  },
  {
   "cell_type": "markdown",
   "metadata": {},
   "source": [
    "#### Make similarity matrix"
   ]
  },
  {
   "cell_type": "code",
   "execution_count": 4,
   "metadata": {},
   "outputs": [],
   "source": [
    "title_dict = {i: title for i,title in enumerate(titles)}\n",
    "inv_title_dict = {title: i for i,title in enumerate(titles)}\n",
    "skill_dict = corpora.Dictionary(skillss)\n",
    "vectors = [skill_dict.doc2bow(skillset) for skillset in skillss]\n",
    "\n",
    "tfidf = models.TfidfModel(vectors)\n",
    "vectors_tfidf = tfidf[vectors]\n",
    "lsi_model = models.LsiModel(vectors_tfidf, id2word=skill_dict, num_topics=500)\n",
    "vectors_lsi = lsi_model[vectors_tfidf]\n",
    "\n",
    "index = similarities.MatrixSimilarity(vectors_lsi)"
   ]
  },
  {
   "cell_type": "markdown",
   "metadata": {},
   "source": [
    "#### Predict similar titles"
   ]
  },
  {
   "cell_type": "code",
   "execution_count": 5,
   "metadata": {},
   "outputs": [],
   "source": [
    "def find_similar_titles(input_title, top_n=10):\n",
    "    id_ex = inv_title_dict[input_title]\n",
    "    skill_vector = skill_dict.doc2bow(skillss[id_ex])\n",
    "    tfidf_vector = tfidf[skill_vector]\n",
    "    lsi_vector = lsi_model[tfidf_vector]\n",
    "    sims = sorted(enumerate(index[lsi_vector]), key=lambda item: -item[1])\n",
    "    out_list = [(titles[i], s) for i,s in sims[1:top_n+1]]\n",
    "    return out_list"
   ]
  },
  {
   "cell_type": "code",
   "execution_count": 6,
   "metadata": {},
   "outputs": [
    {
     "data": {
      "text/plain": [
       "[('ai engineer', 0.93368685),\n",
       " ('ml engineer', 0.9050194),\n",
       " ('machine learning scientist', 0.9023429),\n",
       " ('artificial intelligence engineer', 0.9012699),\n",
       " ('learning software engineer', 0.8630173),\n",
       " ('machine learning specialist', 0.8509244),\n",
       " ('ai developer', 0.8335743),\n",
       " ('learning scientist', 0.81373686),\n",
       " ('machine learning developer', 0.79833734),\n",
       " ('machine learning expert', 0.7898615)]"
      ]
     },
     "execution_count": 6,
     "metadata": {},
     "output_type": "execute_result"
    }
   ],
   "source": [
    "job_title = \"machine learning engineer\"\n",
    "find_similar_titles(job_title)"
   ]
  },
  {
   "cell_type": "code",
   "execution_count": 7,
   "metadata": {},
   "outputs": [
    {
     "data": {
      "text/plain": [
       "[('python django developer', 0.8588372),\n",
       " ('python engineer', 0.85697204),\n",
       " ('backend engineer', 0.8015604),\n",
       " ('go developer', 0.774391),\n",
       " ('api engineer', 0.76543325),\n",
       " ('stack python developer', 0.75738883),\n",
       " ('django developer', 0.7535784),\n",
       " ('back end engineer', 0.742126),\n",
       " ('ruby developer', 0.7142695),\n",
       " ('staff software engineer', 0.7108178)]"
      ]
     },
     "execution_count": 7,
     "metadata": {},
     "output_type": "execute_result"
    }
   ],
   "source": [
    "job_title = \"python developer\"\n",
    "find_similar_titles(job_title)"
   ]
  },
  {
   "cell_type": "code",
   "execution_count": null,
   "metadata": {},
   "outputs": [],
   "source": []
  }
 ],
 "metadata": {
  "kernelspec": {
   "display_name": "Python 3",
   "language": "python",
   "name": "python3"
  },
  "language_info": {
   "codemirror_mode": {
    "name": "ipython",
    "version": 3
   },
   "file_extension": ".py",
   "mimetype": "text/x-python",
   "name": "python",
   "nbconvert_exporter": "python",
   "pygments_lexer": "ipython3",
   "version": "3.6.7"
  }
 },
 "nbformat": 4,
 "nbformat_minor": 2
}
