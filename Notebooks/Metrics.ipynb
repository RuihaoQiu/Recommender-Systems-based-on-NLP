{
 "cells": [
  {
   "cell_type": "markdown",
   "metadata": {},
   "source": [
    "## Metrics for recommender system"
   ]
  },
  {
   "cell_type": "markdown",
   "metadata": {},
   "source": [
    "### MAP@K \n",
    "MAP: Mean Average Precision; K: Cutoff\n",
    "Recommender system is basically a ranking algorithm. It recommends a list of item for a user, the order implies the relevance. MAP is a suitable metrics to evaluate such a ranking task. \n",
    "\n",
    "- Precision(k) = #hits/#predicts\n",
    "- AP@K = sum(Precision(k))/K\n",
    "- MAP@K = sum(AP@K(n))/N"
   ]
  },
  {
   "cell_type": "code",
   "execution_count": 4,
   "metadata": {},
   "outputs": [],
   "source": [
    "import numpy as np"
   ]
  },
  {
   "cell_type": "code",
   "execution_count": 3,
   "metadata": {},
   "outputs": [],
   "source": [
    "preds = [[1, 6, 2, 7, 8, 3, 9, 10, 4, 5],\n",
    "         [4, 1, 5, 6, 2, 7, 3, 8, 9, 10],\n",
    "         [1, 2, 3, 4, 5]]\n",
    "\n",
    "labels = [[1, 2, 3, 4, 5], \n",
    "          [1, 2, 3], \n",
    "          []]"
   ]
  },
  {
   "cell_type": "code",
   "execution_count": 40,
   "metadata": {},
   "outputs": [],
   "source": [
    "def precision(pred, labeld, k):\n",
    "    pred_k = pred[:k]\n",
    "    rel = np.in1d(pred_k, label)\n",
    "    return sum(rel)/k"
   ]
  },
  {
   "cell_type": "code",
   "execution_count": 49,
   "metadata": {},
   "outputs": [
    {
     "name": "stderr",
     "output_type": "stream",
     "text": [
      "/home/ruihaoqiu/.local/lib/python3.6/site-packages/ipykernel_launcher.py:1: VisibleDeprecationWarning: Creating an ndarray from ragged nested sequences (which is a list-or-tuple of lists-or-tuples-or ndarrays with different lengths or shapes) is deprecated. If you meant to do this, you must specify 'dtype=object' when creating the ndarray\n",
      "  \"\"\"Entry point for launching an IPython kernel.\n"
     ]
    },
    {
     "data": {
      "text/plain": [
       "array([list([1, 6, 2, 7, 8, 3, 9, 10, 4, 5]),\n",
       "       list([1, 6, 2, 7, 8, 3, 9, 10, 4, 5, 4, 1, 5, 6, 2, 7, 3, 8, 9, 10]),\n",
       "       list([1, 6, 2, 7, 8, 3, 9, 10, 4, 5, 4, 1, 5, 6, 2, 7, 3, 8, 9, 10, 1, 2, 3, 4, 5])],\n",
       "      dtype=object)"
      ]
     },
     "execution_count": 49,
     "metadata": {},
     "output_type": "execute_result"
    }
   ],
   "source": [
    "np.array(preds).cumsum()"
   ]
  },
  {
   "cell_type": "code",
   "execution_count": null,
   "metadata": {},
   "outputs": [],
   "source": [
    "def APatK(preds, labels, K):\n",
    "    N = len(preds)\n",
    "    "
   ]
  },
  {
   "cell_type": "markdown",
   "metadata": {},
   "source": [
    "### Reference\n",
    "\n",
    "https://sdsawtelle.github.io/blog/output/mean-average-precision-MAP-for-recommender-systems.html\n",
    "https://gist.github.com/tgsmith61591/d8aa96ac7c74c24b33e4b0cb967ca519"
   ]
  },
  {
   "cell_type": "code",
   "execution_count": null,
   "metadata": {},
   "outputs": [],
   "source": []
  }
 ],
 "metadata": {
  "kernelspec": {
   "display_name": "Python 3",
   "language": "python",
   "name": "python3"
  },
  "language_info": {
   "codemirror_mode": {
    "name": "ipython",
    "version": 3
   },
   "file_extension": ".py",
   "mimetype": "text/x-python",
   "name": "python",
   "nbconvert_exporter": "python",
   "pygments_lexer": "ipython3",
   "version": "3.6.7"
  }
 },
 "nbformat": 4,
 "nbformat_minor": 2
}
