{
 "cells": [
  {
   "cell_type": "markdown",
   "metadata": {},
   "source": [
    "### Recommend skill from job title"
   ]
  },
  {
   "cell_type": "code",
   "execution_count": 1,
   "metadata": {},
   "outputs": [],
   "source": [
    "import pandas as pd"
   ]
  },
  {
   "cell_type": "code",
   "execution_count": 2,
   "metadata": {},
   "outputs": [],
   "source": [
    "def load_data():\n",
    "    df_title_skills = pd.read_csv(\"top_skills.csv\")\n",
    "    df_skills = df_title_skills.groupby(\"job_title\")[\"recommended_skills_tfidf\"].apply(list)\n",
    "    return df_skills.to_dict()"
   ]
  },
  {
   "cell_type": "code",
   "execution_count": 3,
   "metadata": {},
   "outputs": [],
   "source": [
    "title_skills_dict = load_data()"
   ]
  },
  {
   "cell_type": "code",
   "execution_count": 4,
   "metadata": {},
   "outputs": [],
   "source": [
    "def find_skills(input_title, top_n=5):\n",
    "    try:\n",
    "        return title_skills_dict[input_title][:top_n]\n",
    "    except KeyError:\n",
    "        return None"
   ]
  },
  {
   "cell_type": "code",
   "execution_count": 5,
   "metadata": {},
   "outputs": [
    {
     "data": {
      "text/plain": [
       "['Data Science', 'Python', 'Machine Learning', 'Algorithm', 'Statistics']"
      ]
     },
     "execution_count": 5,
     "metadata": {},
     "output_type": "execute_result"
    }
   ],
   "source": [
    "find_skills(\"data scientist\")"
   ]
  },
  {
   "cell_type": "code",
   "execution_count": 6,
   "metadata": {
    "scrolled": true
   },
   "outputs": [
    {
     "data": {
      "text/plain": [
       "['Python',\n",
       " 'Django',\n",
       " '(Structured Query Language) SQL',\n",
       " 'Amazon Web Services (AWS)',\n",
       " 'Software Development']"
      ]
     },
     "execution_count": 6,
     "metadata": {},
     "output_type": "execute_result"
    }
   ],
   "source": [
    "find_skills(\"python developer\")"
   ]
  },
  {
   "cell_type": "code",
   "execution_count": 7,
   "metadata": {},
   "outputs": [
    {
     "data": {
      "text/plain": [
       "['Business Development Techniques',\n",
       " 'English',\n",
       " 'Prospecting',\n",
       " 'B2B',\n",
       " 'Customer Relationship Management (CRM)']"
      ]
     },
     "execution_count": 7,
     "metadata": {},
     "output_type": "execute_result"
    }
   ],
   "source": [
    "find_skills(\"business developer\")"
   ]
  },
  {
   "cell_type": "code",
   "execution_count": null,
   "metadata": {},
   "outputs": [],
   "source": []
  },
  {
   "cell_type": "code",
   "execution_count": null,
   "metadata": {},
   "outputs": [],
   "source": []
  },
  {
   "cell_type": "markdown",
   "metadata": {},
   "source": [
    "### Recommend skills from skills"
   ]
  },
  {
   "cell_type": "code",
   "execution_count": 8,
   "metadata": {},
   "outputs": [],
   "source": [
    "def load_skill_matrix():\n",
    "    \"\"\"Load skill corelation matrix\"\"\"\n",
    "    df_input = pd.read_csv(\"skill_matrix.csv\")\n",
    "    skills_dict = df_input.groupby(\"skill_id_1\")[[\"skill_id_2\", \"rescaled_factorized_correlation\"]].apply(lambda x: [tuple(x.iloc[i]) for i in range(1, len(x))])\n",
    "    return skills_dict"
   ]
  },
  {
   "cell_type": "code",
   "execution_count": 9,
   "metadata": {},
   "outputs": [],
   "source": [
    "def load_id_skill_dict():\n",
    "    \"\"\"Load id and skill dictionary\"\"\"\n",
    "    df_input = pd.read_excel(\"skill_matrix_production.xlsx\")\n",
    "    id_skill_dict = dict(zip(df_input[\"skill_id\"], df_input[\"skill_name_en\"]))\n",
    "    skill_id_dict = dict(zip(df_input[\"skill_name_en\"], df_input[\"skill_id\"]))\n",
    "    return id_skill_dict, skill_id_dict"
   ]
  },
  {
   "cell_type": "code",
   "execution_count": 20,
   "metadata": {},
   "outputs": [],
   "source": [
    "def find_skills(input_skills, top_n=10):\n",
    "    \"\"\"Find all correlated skills and sort them\"\"\"\n",
    "    skill_ids = [skill_id_dict[skill] for skill in input_skills]\n",
    "    out_list = []\n",
    "    for _id in skill_ids:\n",
    "        out_list += skill_dict[_id]\n",
    "    sorted_ids = sort_skills(out_list)\n",
    "    out_skill_name = [id_skill_dict[x] for x in sorted_ids if x not in skill_ids]\n",
    "    return out_skill_name[:top_n]"
   ]
  },
  {
   "cell_type": "code",
   "execution_count": 16,
   "metadata": {},
   "outputs": [],
   "source": [
    "def sort_skills(input_skill_score):\n",
    "    \"\"\"Sort skills by freqency and correlation score\"\"\"\n",
    "    df_temp = pd.DataFrame(input_skill_score, columns=[\"id\", \"score\"])\n",
    "    df = df_temp.groupby(\"id\").mean()\n",
    "    df[\"freq\"] = df_temp[\"id\"].value_counts()\n",
    "    df_out = df.sort_values(by=[\"freq\", \"score\"], ascending=[False, False])\n",
    "    out_id = list(df_out.index.astype(int))\n",
    "    return out_id"
   ]
  },
  {
   "cell_type": "code",
   "execution_count": 12,
   "metadata": {},
   "outputs": [],
   "source": [
    "skill_dict = load_skill_matrix()"
   ]
  },
  {
   "cell_type": "code",
   "execution_count": 13,
   "metadata": {},
   "outputs": [],
   "source": [
    "id_skill_dict, skill_id_dict = load_id_skill_dict()"
   ]
  },
  {
   "cell_type": "code",
   "execution_count": 21,
   "metadata": {},
   "outputs": [
    {
     "data": {
      "text/plain": [
       "['Programming',\n",
       " 'C++',\n",
       " 'HTML5',\n",
       " 'Java - Hibernate',\n",
       " 'XML - REST',\n",
       " 'Perl',\n",
       " 'Representational state transfe (REST)',\n",
       " 'XML',\n",
       " 'Java - Web Application',\n",
       " 'Ruby ']"
      ]
     },
     "execution_count": 21,
     "metadata": {},
     "output_type": "execute_result"
    }
   ],
   "source": [
    "find_skills([\"Python\", \"Java\", \"Django\"])"
   ]
  },
  {
   "cell_type": "code",
   "execution_count": null,
   "metadata": {},
   "outputs": [],
   "source": []
  },
  {
   "cell_type": "code",
   "execution_count": null,
   "metadata": {},
   "outputs": [],
   "source": []
  }
 ],
 "metadata": {
  "kernelspec": {
   "display_name": "Python 3",
   "language": "python",
   "name": "python3"
  },
  "language_info": {
   "codemirror_mode": {
    "name": "ipython",
    "version": 3
   },
   "file_extension": ".py",
   "mimetype": "text/x-python",
   "name": "python",
   "nbconvert_exporter": "python",
   "pygments_lexer": "ipython3",
   "version": "3.6.7"
  }
 },
 "nbformat": 4,
 "nbformat_minor": 2
}
